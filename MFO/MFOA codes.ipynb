{
 "cells": [
  {
   "cell_type": "code",
   "execution_count": 12,
   "metadata": {},
   "outputs": [],
   "source": [
    "import numpy as np\n",
    "import matplotlib.pyplot as plt\n",
    "from PIL import Image"
   ]
  },
  {
   "cell_type": "code",
   "execution_count": 37,
   "metadata": {},
   "outputs": [
    {
     "name": "stdout",
     "output_type": "stream",
     "text": [
      "Best solution: [-5.34234115e-11  1.07229060e-10], Cost: 3.3884761663216523e-10\n"
     ]
    }
   ],
   "source": [
    "# Ackley Function\n",
    "def objective_function(x):\n",
    "    n = x.shape[1]  \n",
    "    sum1 = np.sum(x**2, axis=1) / n\n",
    "    sum2 = np.sum(np.cos(2 * np.pi * x), axis=1) / n\n",
    "    return -20 * np.exp(-0.2 * np.sqrt(sum1)) - np.exp(sum2) + 20 + np.e\n",
    "\n",
    "# # Rosenbrock Function \n",
    "# def objective_function(x):\n",
    "#     return np.sum(100 * (x[:, 1:] - x[:, :-1]**2)**2 + (x[:, :-1] - 1)**2, axis=1)\n",
    "\n",
    "# # Sphere Function \n",
    "# def objective_function(x):\n",
    "#     return np.sum(x**2, axis=1)\n",
    "\n",
    "# # Rastrigin Function\n",
    "# def objective_function(x):\n",
    "#     n = x.shape[1]  \n",
    "#     return 10 * n + np.sum(x**2 - 10 * np.cos(2 * np.pi * x), axis=1)\n",
    "\n",
    "# # Griewank Function \n",
    "# def objective_function(x):\n",
    "#     sum_term = np.sum(x**2, axis=1) / 4000\n",
    "#     prod_term = np.prod(np.cos(x / np.sqrt(np.arange(1, x.shape[1] + 1))), axis=1)\n",
    "#     return 1 + sum_term - prod_term\n",
    "\n",
    "def MFO(nw, dim, iter, xMin, xMax):\n",
    "    flame_path = []\n",
    "    moth_path = []\n",
    "    moths = np.random.uniform(xMin, xMax, (nw, dim))\n",
    "    best = np.copy(moths)\n",
    "    best_cost = objective_function(best)\n",
    "\n",
    "    for it in range(iter):\n",
    "        n_flame = max(1, int(nw - (nw - 1) * (it / iter)))\n",
    "        \n",
    "        sorted_idx = np.argsort(best_cost)\n",
    "        best = best[sorted_idx]\n",
    "        best_cost = best_cost[sorted_idx]\n",
    "\n",
    "        a = -1 - 2 * (it / iter)  \n",
    "        \n",
    "        for j in range(nw):\n",
    "            t = np.random.uniform(-1, 1)\n",
    "            reference = best[j] if j < n_flame else best[0]  \n",
    "            distance = np.abs(moths[j] - reference)\n",
    "            \n",
    "            scale = 1 - (it / iter)\n",
    "            moths[j] = reference + scale * distance * np.exp(a * t) * np.cos(2 * np.pi * t) \n",
    "            moths[j] = np.clip(moths[j], xMin, xMax)\n",
    "\n",
    "        flame_path.append(np.copy(best))\n",
    "        moth_path.append(np.copy(moths))\n",
    "        moth_costs = objective_function(moths)\n",
    "        sorted_idx = np.argsort(moth_costs)\n",
    "        best[:n_flame] = moths[sorted_idx[:n_flame]]\n",
    "        best_cost[:n_flame] = moth_costs[sorted_idx[:n_flame]]\n",
    "        # np.random.shuffle(moths)\n",
    "\n",
    "    best_idx = np.argmin(best_cost)\n",
    "    print(f\"Best solution: {best[best_idx]}, Cost: {best_cost[best_idx]}\")\n",
    "    return best[best_idx], best_cost[best_idx],flame_path,moth_path\n",
    "\n",
    "nw, dim, iter, xMin, xMax = 70, 2, 50, -10, 10\n",
    "best_solution, best_cost,moth_path, flame_path = MFO(nw, dim, iter, xMin, xMax)\n"
   ]
  },
  {
   "cell_type": "code",
   "execution_count": 39,
   "metadata": {},
   "outputs": [
    {
     "name": "stderr",
     "output_type": "stream",
     "text": [
      "C:\\Users\\ali0a\\AppData\\Local\\Temp\\ipykernel_9652\\2133258273.py:26: MatplotlibDeprecationWarning: The tostring_rgb function was deprecated in Matplotlib 3.8 and will be removed two minor releases later. Use buffer_rgba instead.\n",
      "  img = np.frombuffer(fig.canvas.tostring_rgb(), dtype=np.uint8)\n"
     ]
    },
    {
     "name": "stdout",
     "output_type": "stream",
     "text": [
      "GIF saved as MFO_movement.gif\n"
     ]
    }
   ],
   "source": [
    "def create_gif(moth_path, flame_path, xMin, xMax, filename=\"MFO_movement.gif\"):\n",
    "    frames = []\n",
    "    x = np.linspace(xMin, xMax, 200)\n",
    "    y = np.linspace(xMin, xMax, 200)\n",
    "    X, Y = np.meshgrid(x, y)\n",
    "    Z = objective_function(np.column_stack([X.ravel(), Y.ravel()])).reshape(X.shape)\n",
    "\n",
    "    for i, (moths, flames) in enumerate(zip(moth_path, flame_path)):\n",
    "        fig, ax = plt.subplots(figsize=(10, 8))\n",
    "        \n",
    "        contourf = ax.contourf(X, Y, Z, levels=20, cmap='jet')\n",
    "        \n",
    "        ax.scatter(flames[:, 0], flames[:, 1], color='orange', edgecolors='black', label='Flames', marker='o')\n",
    "        ax.scatter(moths[:, 0], moths[:, 1], color='white', edgecolors='black', label='Moths', marker='s')\n",
    "        ax.scatter(0, 0, c='red', label='Global Min (0,0)', marker='X', s=100)\n",
    "\n",
    "        ax.set_title(f'Moth-Flame Optimization - Iteration {i+1}')\n",
    "        ax.set_xlabel('x')\n",
    "        ax.set_ylabel('y')\n",
    "        ax.legend()\n",
    "        ax.grid(True)\n",
    "        plt.colorbar(contourf, ax=ax, label='Value')\n",
    "        plt.tight_layout()\n",
    "\n",
    "        fig.canvas.draw()\n",
    "        img = np.frombuffer(fig.canvas.tostring_rgb(), dtype=np.uint8)\n",
    "        img = img.reshape(fig.canvas.get_width_height()[::-1] + (3,))\n",
    "        frames.append(Image.fromarray(img))\n",
    "\n",
    "        plt.close(fig)  \n",
    "\n",
    "    if frames:\n",
    "        frames[0].save(filename, save_all=True, append_images=frames[1:], duration=500, loop=0)\n",
    "    print(f\"GIF saved as {filename}\")\n",
    "    \n",
    "create_gif(moth_path, flame_path, xMin, xMax)"
   ]
  },
  {
   "cell_type": "code",
   "execution_count": null,
   "metadata": {},
   "outputs": [],
   "source": []
  }
 ],
 "metadata": {
  "kernelspec": {
   "display_name": "Python 3",
   "language": "python",
   "name": "python3"
  },
  "language_info": {
   "codemirror_mode": {
    "name": "ipython",
    "version": 3
   },
   "file_extension": ".py",
   "mimetype": "text/x-python",
   "name": "python",
   "nbconvert_exporter": "python",
   "pygments_lexer": "ipython3",
   "version": "3.10.10"
  }
 },
 "nbformat": 4,
 "nbformat_minor": 2
}
